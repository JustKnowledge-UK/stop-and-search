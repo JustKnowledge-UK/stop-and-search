{
  "cells": [
    {
      "cell_type": "raw",
      "metadata": {},
      "source": [
        "---\n",
        "title: 'Stop and Search in Haringey: April 23 to April 24'\n",
        "format:\n",
        "  html:\n",
        "    embed-resources: true\n",
        "    echo: false\n",
        "---"
      ],
      "id": "3a65f2a0"
    },
    {
      "cell_type": "code",
      "metadata": {},
      "source": [
        "import pandas as pd\n",
        "import numpy as np\n",
        "import geopandas as gpd\n",
        "import os\n",
        "import glob\n",
        "from shapely.geometry import Point\n",
        "import matplotlib.pyplot as plt\n",
        "import contextily as cx"
      ],
      "id": "a633ff9c",
      "execution_count": null,
      "outputs": []
    },
    {
      "cell_type": "code",
      "metadata": {},
      "source": [
        "# LAD boundaries\n",
        "pattern = os.path.join('..','data','LAD_23_boundaries', '*.shp')\n",
        "files = glob.glob(pattern)\n",
        "lad_gpd = gpd.read_file(files[0])\n",
        "# make colnames lowercase\n",
        "lad_gpd.columns = [x.lower() for x in lad_gpd.columns]"
      ],
      "id": "4c90f187",
      "execution_count": null,
      "outputs": []
    },
    {
      "cell_type": "code",
      "metadata": {},
      "source": [
        "pattern = os.path.join('..','data','*haringey*.csv')\n",
        "files = glob.glob(pattern)\n",
        "stops_data = pd.read_csv(files[0])\n",
        "\n",
        "geometry = [Point(xy) for xy in zip(stops_data[\"location.longitude\"], stops_data[\"location.latitude\"])]\n",
        "# crs = {'init': 'epsg:4326'}\n",
        "stops_gpd = gpd.GeoDataFrame(stops_data, crs=\"EPSG:4326\", geometry=geometry)\n",
        "stops_gpd = stops_gpd.to_crs(\"EPSG:27700\")"
      ],
      "id": "85982109",
      "execution_count": null,
      "outputs": []
    },
    {
      "cell_type": "markdown",
      "metadata": {},
      "source": [
        "The plot below shows the unique locations of all stops in Haringey between Apr 1 2023 and Mar 31 2024, by self-defined ethnicity.\n"
      ],
      "id": "2ebbc7c0"
    },
    {
      "cell_type": "code",
      "metadata": {},
      "source": [
        "la = 'Haringey'\n",
        "fig, ax = plt.subplots(figsize=[20,20])\n",
        "temp_lad_gpd = lad_gpd[lad_gpd['lad23nm']==la]\n",
        "\n",
        "temp_lad_gpd.boundary.plot(ax=ax, edgecolor=\"black\")\n",
        "stops_gpd.plot(column='self_defined_ethnicity',ax=ax, legend=True)\n",
        "cx.add_basemap(ax, crs = stops_gpd.crs, source=cx.providers.OpenStreetMap.Mapnik)\n",
        "\n",
        "ax.set_axis_off()\n"
      ],
      "id": "b71090a7",
      "execution_count": null,
      "outputs": []
    }
  ],
  "metadata": {
    "kernelspec": {
      "name": "python3",
      "language": "python",
      "display_name": "Python 3 (ipykernel)"
    }
  },
  "nbformat": 4,
  "nbformat_minor": 5
}